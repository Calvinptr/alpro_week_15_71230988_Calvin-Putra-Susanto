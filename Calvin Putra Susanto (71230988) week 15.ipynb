{
 "cells": [
  {
   "cell_type": "code",
   "execution_count": null,
   "id": "afcf7407",
   "metadata": {},
   "outputs": [],
   "source": [
    "#  latihan 14.1\n",
    "import re\n",
    "from datetime import datetime\n",
    "lst1 = []\n",
    "lst2 = []\n",
    "file = input(\"Masukkan nama File: \")\n",
    "openFile = open(file, 'r')\n",
    "hari_ini = datetime.now()\n",
    "for line in openFile:\n",
    "    tanggal = re.findall(r'\\d{4}-\\d{2}-\\d{2}', line)\n",
    "    lst1.extend(tanggal)\n",
    "for i in lst1:\n",
    "    date = datetime.strptime(i, '%Y-%m-%d')\n",
    "    format = date.strftime('%d-%m-%Y')\n",
    "    selisih = (hari_ini - date).days\n",
    "    lst2.append(f\"{date} selisih {selisih} hari\")\n",
    "for hasil in lst2:\n",
    "    print(hasil)"
   ]
  },
  {
   "cell_type": "code",
   "execution_count": null,
   "id": "5694fa63",
   "metadata": {},
   "outputs": [],
   "source": [
    "# latihan 14.2\n",
    "import re\n",
    "import random\n",
    "lower = \"abcdefghijklmnopqrstuvwxyz\"\n",
    "upper = \"ABCDEFGHIJKLMNOPQRSTUVWXYZ\"\n",
    "digits = \"0123456789\"\n",
    "gabungan = lower + upper + digits\n",
    "panjang = 8\n",
    "lst1 = []\n",
    "nama = []\n",
    "lst2 = []\n",
    "a = {}\n",
    "file = input(\"Masukkan nama file: \")\n",
    "openFile = open(file, 'r')\n",
    "for line in openFile:\n",
    "    email = re.findall(r'\\S+@\\S+', line)\n",
    "    lst1.extend(email)\n",
    "for i in lst1:\n",
    "    nama1 = i.split(\"@\")[0]\n",
    "    nama.append(nama1)\n",
    "for m in range(len(nama)):\n",
    "    a[lst1[m]] = nama[m]\n",
    "for key, value in a.items():\n",
    "    password = ''.join(random.choice(gabungan) for j in range(panjang))\n",
    "    print(f\"{key} username: {value}, password: {password}\")"
   ]
  }
 ],
 "metadata": {
  "kernelspec": {
   "display_name": "Python 3 (ipykernel)",
   "language": "python",
   "name": "python3"
  },
  "language_info": {
   "codemirror_mode": {
    "name": "ipython",
    "version": 3
   },
   "file_extension": ".py",
   "mimetype": "text/x-python",
   "name": "python",
   "nbconvert_exporter": "python",
   "pygments_lexer": "ipython3",
   "version": "3.11.5"
  }
 },
 "nbformat": 4,
 "nbformat_minor": 5
}
